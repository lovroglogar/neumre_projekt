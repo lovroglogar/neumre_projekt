{
 "cells": [
  {
   "cell_type": "code",
   "execution_count": 1,
   "outputs": [],
   "source": [
    "from torchvision.transforms import ToTensor\n",
    "\n",
    "from convolutional_model1 import ConvolutionalModel1\n",
    "from convolutional_model2 import ConvolutionalModel2\n",
    "from emotionDetectionDataset import EmotionDetectionDataset\n",
    "from torch_train import *\n",
    "from torchvision import transforms\n",
    "\n",
    "import math"
   ],
   "metadata": {
    "collapsed": false,
    "ExecuteTime": {
     "end_time": "2023-12-26T10:00:59.163497900Z",
     "start_time": "2023-12-26T10:00:53.924161200Z"
    }
   }
  },
  {
   "cell_type": "code",
   "execution_count": 2,
   "outputs": [],
   "source": [
    "from matplotlib import pyplot as plt\n",
    "import itertools\n",
    "\n",
    "def plot_confusion_matrix(cm, classes, title='Confusion matrix', cmap=plt.cm.Blues):\n",
    "    plt.imshow(cm, cmap=cmap)\n",
    "    plt.title(title)\n",
    "    tick_marks = np.arange(len(classes))\n",
    "    plt.xticks(tick_marks, classes, rotation=45)\n",
    "    plt.yticks(tick_marks, classes)\n",
    "\n",
    "    fmt = 'd'\n",
    "    thresh = cm.max() / 2.\n",
    "    for i, j in itertools.product(range(cm.shape[0]), range(cm.shape[1])):\n",
    "        plt.text(j, i, format(cm[i, j], fmt),\n",
    "                 horizontalalignment=\"center\",\n",
    "                 color=\"white\" if cm[i, j] > thresh else \"black\")\n",
    "\n",
    "    plt.xlabel('True label')\n",
    "    plt.ylabel('Predicted label')\n",
    "    plt.tight_layout()\n",
    "\n",
    "\n",
    "def print_precisions_recalls_and_fscores(precision_and_recall, classes):\n",
    "    header = \"{:<25}\".format(\"Class\") + \"\".join(\"{:<25}\".format(key) for key in ['precision', 'recall', 'f1-score'])\n",
    "    print(header)\n",
    "    print(\"-\" * len(header))\n",
    "\n",
    "    for i, cls in enumerate(classes.keys()):\n",
    "        f1 = 2 * precision_and_recall[i, 0] * precision_and_recall[i, 1] / (\n",
    "                    precision_and_recall[i, 0] + precision_and_recall[i, 1])\n",
    "        row_str = \"{:<25}\".format(classes[cls]) + \"\".join(\n",
    "            \"{:<25}\".format(str(value if not math.isnan(value) else 0.)) for value in\n",
    "            precision_and_recall[i]) + \"{:<25}\".format(str(f1 if not math.isnan(f1) else 0.))\n",
    "        print(row_str)"
   ],
   "metadata": {
    "collapsed": false,
    "ExecuteTime": {
     "end_time": "2023-12-26T10:00:59.304229500Z",
     "start_time": "2023-12-26T10:00:59.170105200Z"
    }
   }
  },
  {
   "cell_type": "markdown",
   "source": [
    "# PRVI MODEL"
   ],
   "metadata": {
    "collapsed": false
   }
  },
  {
   "cell_type": "code",
   "execution_count": 3,
   "outputs": [],
   "source": [
    "ROOT_PATH = 'dataset'\n",
    "config = {'max_epochs': 60, 'batch_size': 64, 'weight_decay': 0.01, 'lr': 0.001}\n",
    "\n",
    "TRAIN_VAL_SPLIT = 0.75\n",
    "\n",
    "device = torch.device('cuda' if torch.cuda.is_available() else 'cpu')"
   ],
   "metadata": {
    "collapsed": false,
    "ExecuteTime": {
     "end_time": "2023-12-26T10:00:59.335480300Z",
     "start_time": "2023-12-26T10:00:59.304229500Z"
    }
   }
  },
  {
   "cell_type": "markdown",
   "source": [
    "### SVE KLASE"
   ],
   "metadata": {
    "collapsed": false
   }
  },
  {
   "cell_type": "code",
   "execution_count": 4,
   "outputs": [],
   "source": [
    "MODEL_SAVE_PATH = './models/model.pth'"
   ],
   "metadata": {
    "collapsed": false,
    "ExecuteTime": {
     "end_time": "2023-12-26T10:00:59.351108400Z",
     "start_time": "2023-12-26T10:00:59.335480300Z"
    }
   }
  },
  {
   "cell_type": "code",
   "execution_count": 5,
   "outputs": [],
   "source": [
    "transform = transforms.Compose([\n",
    "    # transforms.RandomHorizontalFlip(),\n",
    "    transforms.ToTensor(),\n",
    "])\n",
    "\n",
    "train, test = EmotionDetectionDataset(root=ROOT_PATH, train=True, transform=transform), EmotionDetectionDataset(\n",
    "    root=ROOT_PATH, train=False, transform=ToTensor())\n",
    "\n",
    "train_data_loader, val_data_loader, test_data_loader = prepare_dataset(train, test, config['batch_size'],\n",
    "                                                                       train_val_split=TRAIN_VAL_SPLIT)\n",
    "model = ConvolutionalModel1().to(device)"
   ],
   "metadata": {
    "collapsed": false,
    "ExecuteTime": {
     "end_time": "2023-12-26T10:00:59.507317800Z",
     "start_time": "2023-12-26T10:00:59.351108400Z"
    }
   }
  },
  {
   "cell_type": "code",
   "execution_count": 6,
   "outputs": [
    {
     "data": {
      "text/plain": "<All keys matched successfully>"
     },
     "execution_count": 6,
     "metadata": {},
     "output_type": "execute_result"
    }
   ],
   "source": [
    "# ucitavanje saveanog modela\n",
    "model.load_state_dict(torch.load('./models/model.pth'))"
   ],
   "metadata": {
    "collapsed": false,
    "ExecuteTime": {
     "end_time": "2023-12-26T10:00:59.554193900Z",
     "start_time": "2023-12-26T10:00:59.507317800Z"
    }
   }
  },
  {
   "cell_type": "code",
   "execution_count": 15,
   "outputs": [
    {
     "name": "stdout",
     "output_type": "stream",
     "text": [
      "Epoch 0, train loss=0.026398753747344017, train accuracy=0.3197101987739179\n",
      "Epoch 0, validation loss=0.02367955818772316, validation accuracy=0.4212066322976174\n",
      "Epoch 1, train loss=0.022533932700753212, train accuracy=0.44900613041055176\n",
      "Epoch 1, validation loss=0.02244543470442295, validation accuracy=0.4441967395847847\n",
      "Epoch 2, train loss=0.021785270422697067, train accuracy=0.4666078394947056\n",
      "Epoch 2, validation loss=0.020990043878555298, validation accuracy=0.4907342900933538\n",
      "Epoch 3, train loss=0.02135845273733139, train accuracy=0.4757105703139513\n",
      "Epoch 3, validation loss=0.02110707201063633, validation accuracy=0.4956109795179044\n",
      "Epoch 4, train loss=0.021041380241513252, train accuracy=0.488296488946684\n",
      "Epoch 4, validation loss=0.021050307899713516, validation accuracy=0.4936603037480842\n",
      "Epoch 5, train loss=0.02089082822203636, train accuracy=0.4944733420026008\n",
      "Epoch 5, validation loss=0.01996912807226181, validation accuracy=0.5110770516929078\n",
      "Epoch 6, train loss=0.020678216591477394, train accuracy=0.49846739736206575\n",
      "Epoch 6, validation loss=0.019754396751523018, validation accuracy=0.5316984812595792\n",
      "Epoch 7, train loss=0.020416809245944023, train accuracy=0.5075701281813115\n",
      "Epoch 7, validation loss=0.020252030342817307, validation accuracy=0.507315034136826\n",
      "Epoch 8, train loss=0.020216839388012886, train accuracy=0.5165799739921977\n",
      "Epoch 8, validation loss=0.019229426980018616, validation accuracy=0.5367145046676884\n",
      "Epoch 9, train loss=0.019971538335084915, train accuracy=0.5222924020063162\n",
      "Epoch 9, validation loss=0.019935356453061104, validation accuracy=0.5218057684269193\n",
      "Epoch 10, train loss=0.019906964153051376, train accuracy=0.5241501021735092\n",
      "Epoch 10, validation loss=0.01945410668849945, validation accuracy=0.5252891180158841\n",
      "Epoch 11, train loss=0.019783876836299896, train accuracy=0.5298160876834479\n",
      "Epoch 11, validation loss=0.018612757325172424, validation accuracy=0.5527379127769263\n",
      "Epoch 12, train loss=0.01962932199239731, train accuracy=0.5304662827419655\n",
      "Epoch 12, validation loss=0.019192196428775787, validation accuracy=0.5343458269471925\n",
      "Epoch 13, train loss=0.01957414671778679, train accuracy=0.5358071707226454\n",
      "Epoch 13, validation loss=0.01864374801516533, validation accuracy=0.5553852584645395\n",
      "Epoch 14, train loss=0.01955697126686573, train accuracy=0.5312558053130225\n",
      "Epoch 14, validation loss=0.019172759726643562, validation accuracy=0.5400585202730946\n",
      "Epoch 15, train loss=0.01943475380539894, train accuracy=0.5385008359650753\n",
      "Epoch 15, validation loss=0.01987510919570923, validation accuracy=0.5287724676048489\n",
      "Epoch 16, train loss=0.019374240189790726, train accuracy=0.5363180382686235\n",
      "Epoch 16, validation loss=0.01826079562306404, validation accuracy=0.5702939947053086\n",
      "Epoch 17, train loss=0.019199393689632416, train accuracy=0.5397083410737507\n",
      "Epoch 17, validation loss=0.01871327869594097, validation accuracy=0.5445172077469694\n",
      "Epoch 18, train loss=0.019158272072672844, train accuracy=0.5443525914917332\n",
      "Epoch 18, validation loss=0.018896354362368584, validation accuracy=0.5418698620593563\n",
      "Epoch 19, train loss=0.01927337795495987, train accuracy=0.5386401634776147\n",
      "Epoch 19, validation loss=0.019725201651453972, validation accuracy=0.5273791277692629\n",
      "Epoch 20, train loss=0.019174300134181976, train accuracy=0.546256734163106\n",
      "Epoch 20, validation loss=0.020012330263853073, validation accuracy=0.5240351121638568\n",
      "Epoch 21, train loss=0.01912686973810196, train accuracy=0.5423555638120008\n",
      "Epoch 21, validation loss=0.02172647789120674, validation accuracy=0.4769402257210534\n",
      "Epoch 22, train loss=0.019102400168776512, train accuracy=0.5480679918261193\n",
      "Epoch 22, validation loss=0.019823264330625534, validation accuracy=0.5219451024104779\n",
      "Epoch 23, train loss=0.019233275204896927, train accuracy=0.5417053687534832\n",
      "Epoch 23, validation loss=0.018178557977080345, validation accuracy=0.5643026334122893\n",
      "Epoch 24, train loss=0.01903945952653885, train accuracy=0.5474642392717816\n",
      "Epoch 24, validation loss=0.018382521346211433, validation accuracy=0.5563605963494497\n",
      "Epoch 25, train loss=0.01902424916625023, train accuracy=0.5463960616756456\n",
      "Epoch 25, validation loss=0.01855493150651455, validation accuracy=0.5585899400863871\n",
      "Epoch 26, train loss=0.019058827310800552, train accuracy=0.5447705740293517\n",
      "Epoch 26, validation loss=0.018387144431471825, validation accuracy=0.5601226139055315\n",
      "Epoch 27, train loss=0.01902972161769867, train accuracy=0.5489503994055359\n",
      "Epoch 27, validation loss=0.018165457993745804, validation accuracy=0.5634666295109377\n",
      "Epoch 28, train loss=0.018967239186167717, train accuracy=0.5497399219765929\n",
      "Epoch 28, validation loss=0.02001594379544258, validation accuracy=0.5159537411174585\n",
      "Epoch 29, train loss=0.01877553202211857, train accuracy=0.5596321753668958\n",
      "Epoch 29, validation loss=0.01877232827246189, validation accuracy=0.5473038874181413\n",
      "Epoch 30, train loss=0.018912095576524734, train accuracy=0.5525264722273825\n",
      "Epoch 30, validation loss=0.018463322892785072, validation accuracy=0.5594259439877386\n",
      "Epoch 31, train loss=0.01895597204566002, train accuracy=0.5522013746981237\n",
      "Epoch 31, validation loss=0.019552892073988914, validation accuracy=0.5311411453253448\n",
      "Epoch 32, train loss=0.018881838768720627, train accuracy=0.5509009845810886\n",
      "Epoch 32, validation loss=0.01847989112138748, validation accuracy=0.5624912916260276\n",
      "Epoch 33, train loss=0.018940456211566925, train accuracy=0.5496470369682334\n",
      "Epoch 33, validation loss=0.01811651699244976, validation accuracy=0.5734986763271562\n",
      "Epoch 34, train loss=0.018866444006562233, train accuracy=0.5515047371354264\n",
      "Epoch 34, validation loss=0.018572423607110977, validation accuracy=0.5556639264316566\n",
      "Epoch 35, train loss=0.018953893333673477, train accuracy=0.5509474270852684\n",
      "Epoch 35, validation loss=0.018710842356085777, validation accuracy=0.5480005573359342\n",
      "Epoch 36, train loss=0.018827464431524277, train accuracy=0.5524335872190228\n",
      "Epoch 36, validation loss=0.018520232290029526, validation accuracy=0.5612372857740002\n",
      "Epoch 37, train loss=0.018938887864351273, train accuracy=0.5543377298903956\n",
      "Epoch 37, validation loss=0.017972096800804138, validation accuracy=0.5772606938832381\n",
      "Epoch 38, train loss=0.01884276233613491, train accuracy=0.552944454765001\n",
      "Epoch 38, validation loss=0.018335668370127678, validation accuracy=0.5697366587710743\n",
      "Epoch 39, train loss=0.018811047077178955, train accuracy=0.5572636076537247\n",
      "Epoch 39, validation loss=0.018183117732405663, validation accuracy=0.5599832799219729\n",
      "Epoch 40, train loss=0.01878218539059162, train accuracy=0.5527122422441018\n",
      "Epoch 40, validation loss=0.019463958218693733, validation accuracy=0.531419813292462\n",
      "Epoch 41, train loss=0.018801193684339523, train accuracy=0.5560561025450492\n",
      "Epoch 41, validation loss=0.01867181994020939, validation accuracy=0.5516232409084576\n",
      "Epoch 42, train loss=0.01880723237991333, train accuracy=0.5561954300575888\n",
      "Epoch 42, validation loss=0.018790852278470993, validation accuracy=0.5456318796154382\n",
      "Epoch 43, train loss=0.01874634250998497, train accuracy=0.5568920676202861\n",
      "Epoch 43, validation loss=0.0187090951949358, validation accuracy=0.5573359342343598\n",
      "Epoch 44, train loss=0.01884094439446926, train accuracy=0.556659855099387\n",
      "Epoch 44, validation loss=0.018373707309365273, validation accuracy=0.5610979517904416\n",
      "Epoch 45, train loss=0.0187444556504488, train accuracy=0.5580531302247818\n",
      "Epoch 45, validation loss=0.019381269812583923, validation accuracy=0.5397798523059775\n",
      "Epoch 46, train loss=0.018642768263816833, train accuracy=0.5565669700910273\n",
      "Epoch 46, validation loss=0.01913449354469776, validation accuracy=0.5499512331057544\n",
      "Epoch 47, train loss=0.01859469525516033, train accuracy=0.5635797882221809\n",
      "Epoch 47, validation loss=0.018350765109062195, validation accuracy=0.562351957642469\n",
      "Epoch 48, train loss=0.018714502453804016, train accuracy=0.5586104402749397\n",
      "Epoch 48, validation loss=0.018964271992444992, validation accuracy=0.5453532116483211\n",
      "Epoch 49, train loss=0.01869056560099125, train accuracy=0.5578673602080624\n",
      "Epoch 49, validation loss=0.018264420330524445, validation accuracy=0.5613766197575588\n",
      "Epoch 50, train loss=0.018743164837360382, train accuracy=0.5576815901913431\n",
      "Epoch 50, validation loss=0.01833886094391346, validation accuracy=0.5619339556917933\n",
      "Epoch 51, train loss=0.018693257123231888, train accuracy=0.560375255433773\n",
      "Epoch 51, validation loss=0.01833023503422737, validation accuracy=0.5637452974780549\n",
      "Epoch 52, train loss=0.018730347976088524, train accuracy=0.5587497677874791\n",
      "Epoch 52, validation loss=0.018463924527168274, validation accuracy=0.5622126236589104\n",
      "Epoch 53, train loss=0.018785517662763596, train accuracy=0.5536875348318782\n",
      "Epoch 53, validation loss=0.01784513145685196, validation accuracy=0.5686219869026056\n",
      "Epoch 54, train loss=0.018726423382759094, train accuracy=0.5575887051829834\n",
      "Epoch 54, validation loss=0.01864905282855034, validation accuracy=0.5512052389577818\n",
      "Epoch 55, train loss=0.018794478848576546, train accuracy=0.5527122422441018\n",
      "Epoch 55, validation loss=0.01832897961139679, validation accuracy=0.5617946217082347\n",
      "Epoch 56, train loss=0.018718857318162918, train accuracy=0.559585732862716\n",
      "Epoch 56, validation loss=0.019080569967627525, validation accuracy=0.5418698620593563\n",
      "Epoch 57, train loss=0.01871267706155777, train accuracy=0.5592141928292773\n",
      "Epoch 57, validation loss=0.019034162163734436, validation accuracy=0.5495332311550787\n",
      "Epoch 58, train loss=0.018679745495319366, train accuracy=0.5567991826119264\n",
      "Epoch 58, validation loss=0.018339628353714943, validation accuracy=0.5606799498397659\n",
      "Epoch 59, train loss=0.01868372969329357, train accuracy=0.5591677503250976\n",
      "Epoch 59, validation loss=0.018580857664346695, validation accuracy=0.5578932701685941\n"
     ]
    }
   ],
   "source": [
    "history = train_torch_model(model, train_data_loader, val_data_loader, config, device=device, write_to_tensorboard=True, model_save_path=MODEL_SAVE_PATH)"
   ],
   "metadata": {
    "collapsed": false,
    "ExecuteTime": {
     "end_time": "2023-12-14T15:49:59.953839400Z",
     "start_time": "2023-12-14T15:43:59.043001700Z"
    }
   }
  },
  {
   "cell_type": "code",
   "execution_count": 7,
   "outputs": [
    {
     "name": "stderr",
     "output_type": "stream",
     "text": [
      "C:\\Users\\gloga\\Lovro\\FER\\Svasta\\neumre_projekt\\torch_train.py:124: RuntimeWarning: invalid value encountered in scalar divide\n",
      "  precision_i = tp_i / (tp_i + fp_i)\n"
     ]
    }
   ],
   "source": [
    "labels = list(train.labels_and_classes.keys())\n",
    "confusion_matrix, precision_and_recall = evaluate_model(model, test_data_loader, labels=labels, device=device)"
   ],
   "metadata": {
    "collapsed": false,
    "ExecuteTime": {
     "end_time": "2023-12-26T10:01:02.549683300Z",
     "start_time": "2023-12-26T10:01:01.428197300Z"
    }
   }
  },
  {
   "cell_type": "code",
   "execution_count": 8,
   "outputs": [
    {
     "name": "stdout",
     "output_type": "stream",
     "text": [
      "Class                    precision                recall                   f1-score                 \n",
      "----------------------------------------------------------------------------------------------------\n",
      "angry                    0.4633431085043988       0.49478079331941544      0.47854618879353855      \n",
      "disgusted                0.0                      0.0                      0.0                      \n",
      "fearful                  0.42443729903536975      0.12890625               0.19775280898876405      \n",
      "happy                    0.8666666666666667       0.7254791431792559       0.7898128260202516       \n",
      "neutral                  0.44760881246641593      0.67558799675588         0.5384615384615384       \n",
      "sad                      0.42432253800396563      0.5148356054530874       0.4652173913043478       \n",
      "surprised                0.6578680203045685       0.779783393501805        0.7136563876651982       \n"
     ]
    },
    {
     "data": {
      "text/plain": "<Figure size 640x480 with 1 Axes>",
      "image/png": "[encoded data removed]"
     },
     "metadata": {},
     "output_type": "display_data"
    }
   ],
   "source": [
    "plot_confusion_matrix(confusion_matrix.astype(np.int32), classes=test.labels_and_classes)\n",
    "print_precisions_recalls_and_fscores(precision_and_recall, classes=test.labels_and_classes)"
   ],
   "metadata": {
    "collapsed": false,
    "ExecuteTime": {
     "end_time": "2023-12-26T10:01:05.446089100Z",
     "start_time": "2023-12-26T10:01:05.273476600Z"
    }
   }
  },
  {
   "cell_type": "markdown",
   "source": [
    "### BEZ DISGUSTED"
   ],
   "metadata": {
    "collapsed": false
   }
  },
  {
   "cell_type": "code",
   "execution_count": 9,
   "outputs": [],
   "source": [
    "MODEL_SAVE_PATH = './models/model_bez_disgusted.pth'"
   ],
   "metadata": {
    "collapsed": false,
    "ExecuteTime": {
     "end_time": "2023-12-26T10:01:10.829902200Z",
     "start_time": "2023-12-26T10:01:10.808243900Z"
    }
   }
  },
  {
   "cell_type": "code",
   "execution_count": 10,
   "outputs": [],
   "source": [
    "transform = transforms.Compose([\n",
    "    # transforms.RandomHorizontalFlip(),\n",
    "    transforms.ToTensor(),\n",
    "])\n",
    "\n",
    "excluded_classes = [1]\n",
    "train, test = EmotionDetectionDataset(root=ROOT_PATH, train=True, transform=transform, excluded_classes=excluded_classes), EmotionDetectionDataset(\n",
    "    root=ROOT_PATH, train=False, transform=ToTensor(), excluded_classes=excluded_classes)\n",
    "\n",
    "train_data_loader, val_data_loader, test_data_loader = prepare_dataset(train, test, config['batch_size'],\n",
    "                                                                       train_val_split=TRAIN_VAL_SPLIT)\n",
    "model = ConvolutionalModel1().to(device)"
   ],
   "metadata": {
    "collapsed": false,
    "ExecuteTime": {
     "end_time": "2023-12-26T10:01:11.644725800Z",
     "start_time": "2023-12-26T10:01:11.550571400Z"
    }
   }
  },
  {
   "cell_type": "code",
   "execution_count": 11,
   "outputs": [
    {
     "data": {
      "text/plain": "<All keys matched successfully>"
     },
     "execution_count": 11,
     "metadata": {},
     "output_type": "execute_result"
    }
   ],
   "source": [
    "# ucitavanje saveanog modela\n",
    "model.load_state_dict(torch.load('./models/model.pth'))"
   ],
   "metadata": {
    "collapsed": false,
    "ExecuteTime": {
     "end_time": "2023-12-26T10:01:11.910425Z",
     "start_time": "2023-12-26T10:01:11.879082200Z"
    }
   }
  },
  {
   "cell_type": "code",
   "execution_count": 78,
   "outputs": [
    {
     "name": "stdout",
     "output_type": "stream",
     "text": [
      "Epoch 0, train loss=0.025034083053469658, train accuracy=0.3556236736618722\n",
      "Epoch 0, validation loss=0.022655567154288292, validation accuracy=0.4318053197509904\n",
      "Epoch 1, train loss=0.021248113363981247, train accuracy=0.4688988446121198\n",
      "Epoch 1, validation loss=0.02411503531038761, validation accuracy=0.4037917374080362\n",
      "Epoch 2, train loss=0.02043800801038742, train accuracy=0.4930440933742042\n",
      "Epoch 2, validation loss=0.020621586591005325, validation accuracy=0.48174872665534807\n",
      "Epoch 3, train loss=0.02024536207318306, train accuracy=0.49794859702900257\n",
      "Epoch 3, validation loss=0.02043009363114834, validation accuracy=0.48754951895868703\n",
      "Epoch 4, train loss=0.019920913502573967, train accuracy=0.509832586654091\n",
      "Epoch 4, validation loss=0.02059292420744896, validation accuracy=0.48429541595925296\n",
      "Epoch 5, train loss=0.01970956288278103, train accuracy=0.5125677906154209\n",
      "Epoch 5, validation loss=0.01962529867887497, validation accuracy=0.5175438596491229\n",
      "Epoch 6, train loss=0.019518069922924042, train accuracy=0.5196415939636878\n",
      "Epoch 6, validation loss=0.019313136115670204, validation accuracy=0.5239105829088851\n",
      "Epoch 7, train loss=0.019282547757029533, train accuracy=0.5295920773402499\n",
      "Epoch 7, validation loss=0.01983063668012619, validation accuracy=0.5028296547821166\n",
      "Epoch 8, train loss=0.019176311790943146, train accuracy=0.5310068380099033\n",
      "Epoch 8, validation loss=0.018699904903769493, validation accuracy=0.5435766836445953\n",
      "Epoch 9, train loss=0.01895831525325775, train accuracy=0.5335534072152794\n",
      "Epoch 9, validation loss=0.020196110010147095, validation accuracy=0.4922184493491794\n",
      "Epoch 10, train loss=0.01896197721362114, train accuracy=0.5379391652912049\n",
      "Epoch 10, validation loss=0.019679496064782143, validation accuracy=0.5082059988681381\n",
      "Epoch 11, train loss=0.01880069635808468, train accuracy=0.538269276114124\n",
      "Epoch 11, validation loss=0.018908904865384102, validation accuracy=0.5355121675155631\n",
      "Epoch 12, train loss=0.018593505024909973, train accuracy=0.547040792265975\n",
      "Epoch 12, validation loss=0.018962832167744637, validation accuracy=0.5360780984719864\n",
      "Epoch 13, train loss=0.018621323630213737, train accuracy=0.5493515680264088\n",
      "Epoch 13, validation loss=0.018747931346297264, validation accuracy=0.5435766836445953\n",
      "Epoch 14, train loss=0.018382102251052856, train accuracy=0.553595850035369\n",
      "Epoch 14, validation loss=0.01852218434214592, validation accuracy=0.5441426146010186\n",
      "Epoch 15, train loss=0.01842287927865982, train accuracy=0.5538316434803112\n",
      "Epoch 15, validation loss=0.01880771294236183, validation accuracy=0.5335314091680815\n",
      "Epoch 16, train loss=0.018318109214305878, train accuracy=0.5526055175666117\n",
      "Epoch 16, validation loss=0.01799738220870495, validation accuracy=0.5577249575551783\n",
      "Epoch 17, train loss=0.018391825258731842, train accuracy=0.5510492808299929\n",
      "Epoch 17, validation loss=0.01785346306860447, validation accuracy=0.5619694397283531\n",
      "Epoch 18, train loss=0.0183247122913599, train accuracy=0.5568497995755718\n",
      "Epoch 18, validation loss=0.018214251846075058, validation accuracy=0.5550367855121675\n",
      "Epoch 19, train loss=0.018232334405183792, train accuracy=0.554539023815138\n",
      "Epoch 19, validation loss=0.017842253670096397, validation accuracy=0.560413129598189\n",
      "Epoch 20, train loss=0.018134161829948425, train accuracy=0.559820796981844\n",
      "Epoch 20, validation loss=0.018519720062613487, validation accuracy=0.5486700622524052\n",
      "Epoch 21, train loss=0.018158143386244774, train accuracy=0.5550577693940109\n",
      "Epoch 21, validation loss=0.01858840323984623, validation accuracy=0.5468307866440294\n",
      "Epoch 22, train loss=0.018212979659438133, train accuracy=0.560669653383636\n",
      "Epoch 22, validation loss=0.01763562485575676, validation accuracy=0.5704584040747029\n",
      "Epoch 23, train loss=0.018118057399988174, train accuracy=0.5607168120726244\n",
      "Epoch 23, validation loss=0.017672311514616013, validation accuracy=0.5686191284663271\n",
      "Epoch 24, train loss=0.01795664243400097, train accuracy=0.5623202074982315\n",
      "Epoch 24, validation loss=0.017799872905015945, validation accuracy=0.5635257498585172\n",
      "Epoch 25, train loss=0.017971497029066086, train accuracy=0.5677906154208913\n",
      "Epoch 25, validation loss=0.018232645466923714, validation accuracy=0.5492359932088285\n",
      "Epoch 26, train loss=0.018093975260853767, train accuracy=0.5616128271634049\n",
      "Epoch 26, validation loss=0.01823675073683262, validation accuracy=0.5548953027730616\n",
      "Epoch 27, train loss=0.01798650063574314, train accuracy=0.5647253006366423\n",
      "Epoch 27, validation loss=0.01793047785758972, validation accuracy=0.5577249575551783\n",
      "Epoch 28, train loss=0.01802477054297924, train accuracy=0.5614713510964395\n",
      "Epoch 28, validation loss=0.018008433282375336, validation accuracy=0.5638087153367289\n",
      "Epoch 29, train loss=0.017918488010764122, train accuracy=0.5696298042914407\n",
      "Epoch 29, validation loss=0.017880013212561607, validation accuracy=0.5629598189020939\n",
      "Epoch 30, train loss=0.017935430631041527, train accuracy=0.5650554114595614\n",
      "Epoch 30, validation loss=0.017744317650794983, validation accuracy=0.5657894736842105\n",
      "Epoch 31, train loss=0.01803937554359436, train accuracy=0.5646781419476539\n",
      "Epoch 31, validation loss=0.019572865217924118, validation accuracy=0.5045274476513866\n",
      "Epoch 32, train loss=0.01795920357108116, train accuracy=0.5674605045979721\n",
      "Epoch 32, validation loss=0.018471019342541695, validation accuracy=0.5489530277306168\n",
      "Epoch 33, train loss=0.01783856377005577, train accuracy=0.5696769629804291\n",
      "Epoch 33, validation loss=0.01750125363469124, validation accuracy=0.5690435766836446\n",
      "Epoch 34, train loss=0.01794063113629818, train accuracy=0.5681207262438104\n",
      "Epoch 34, validation loss=0.018255935981869698, validation accuracy=0.5498019241652519\n",
      "Epoch 35, train loss=0.017834696918725967, train accuracy=0.5669417590190993\n",
      "Epoch 35, validation loss=0.0188494473695755, validation accuracy=0.5394736842105263\n",
      "Epoch 36, train loss=0.01782182790338993, train accuracy=0.5684036783777411\n",
      "Epoch 36, validation loss=0.018506700173020363, validation accuracy=0.5408885116015846\n",
      "Epoch 37, train loss=0.01776350848376751, train accuracy=0.5732138646545626\n",
      "Epoch 37, validation loss=0.01780124008655548, validation accuracy=0.5717317487266553\n",
      "Epoch 38, train loss=0.017813434824347496, train accuracy=0.570714454138175\n",
      "Epoch 38, validation loss=0.018418239429593086, validation accuracy=0.5434352009054896\n",
      "Epoch 39, train loss=0.01785658858716488, train accuracy=0.5678849327988682\n",
      "Epoch 39, validation loss=0.01934184320271015, validation accuracy=0.5299943406904357\n",
      "Epoch 40, train loss=0.017837397754192352, train accuracy=0.5694883282244754\n",
      "Epoch 40, validation loss=0.017761483788490295, validation accuracy=0.5680531975099038\n",
      "Epoch 41, train loss=0.017698628827929497, train accuracy=0.5718934213628861\n",
      "Epoch 41, validation loss=0.019074885174632072, validation accuracy=0.5241935483870968\n",
      "Epoch 42, train loss=0.017854029312729836, train accuracy=0.5714218344730017\n",
      "Epoch 42, validation loss=0.01864197477698326, validation accuracy=0.5414544425580079\n",
      "Epoch 43, train loss=0.01778809353709221, train accuracy=0.5714218344730017\n",
      "Epoch 43, validation loss=0.018403824418783188, validation accuracy=0.553763440860215\n",
      "Epoch 44, train loss=0.017731035128235817, train accuracy=0.5703843433152558\n",
      "Epoch 44, validation loss=0.017820654436945915, validation accuracy=0.565365025466893\n",
      "Epoch 45, train loss=0.017863363027572632, train accuracy=0.5655741570384343\n",
      "Epoch 45, validation loss=0.017772717401385307, validation accuracy=0.55800792303339\n",
      "Epoch 46, train loss=0.01774127036333084, train accuracy=0.5719405800518745\n",
      "Epoch 46, validation loss=0.017925161868333817, validation accuracy=0.5597057159026598\n",
      "Epoch 47, train loss=0.01778237707912922, train accuracy=0.5680264088658336\n",
      "Epoch 47, validation loss=0.01871090568602085, validation accuracy=0.5534804753820034\n",
      "Epoch 48, train loss=0.017807569354772568, train accuracy=0.570195708559302\n",
      "Epoch 48, validation loss=0.018356485292315483, validation accuracy=0.5471137521222411\n",
      "Epoch 49, train loss=0.017831722274422646, train accuracy=0.5706672954491865\n",
      "Epoch 49, validation loss=0.017893556505441666, validation accuracy=0.565365025466893\n",
      "Epoch 50, train loss=0.017784418538212776, train accuracy=0.5727894364536665\n",
      "Epoch 50, validation loss=0.01824820414185524, validation accuracy=0.5556027164685908\n",
      "Epoch 51, train loss=0.017800260335206985, train accuracy=0.5695826456024522\n",
      "Epoch 51, validation loss=0.018265297636389732, validation accuracy=0.5507923033389927\n",
      "Epoch 52, train loss=0.017756637185811996, train accuracy=0.573261023343551\n",
      "Epoch 52, validation loss=0.01834009401500225, validation accuracy=0.5506508205998868\n",
      "Epoch 53, train loss=0.01786263845860958, train accuracy=0.5677906154208913\n",
      "Epoch 53, validation loss=0.0175339188426733, validation accuracy=0.5765421618562535\n",
      "Epoch 54, train loss=0.017764121294021606, train accuracy=0.5727894364536665\n",
      "Epoch 54, validation loss=0.01865334063768387, validation accuracy=0.5410299943406904\n",
      "Epoch 55, train loss=0.01775531843304634, train accuracy=0.5688281065786371\n",
      "Epoch 55, validation loss=0.018363935872912407, validation accuracy=0.5505093378607809\n",
      "Epoch 56, train loss=0.017739038914442062, train accuracy=0.5683093609997643\n",
      "Epoch 56, validation loss=0.017909489572048187, validation accuracy=0.5635257498585172\n",
      "Epoch 57, train loss=0.01782211661338806, train accuracy=0.5705258193822211\n",
      "Epoch 57, validation loss=0.017816536128520966, validation accuracy=0.5632427843803056\n",
      "Epoch 58, train loss=0.017797298729419708, train accuracy=0.5708087715161518\n",
      "Epoch 58, validation loss=0.018725374713540077, validation accuracy=0.5452744765138653\n",
      "Epoch 59, train loss=0.01781458780169487, train accuracy=0.5702428672482905\n",
      "Epoch 59, validation loss=0.017725398764014244, validation accuracy=0.5715902659875495\n"
     ]
    }
   ],
   "source": [
    "history = train_torch_model(model, train_data_loader, val_data_loader, config, device=device, write_to_tensorboard=True, model_save_path=MODEL_SAVE_PATH)"
   ],
   "metadata": {
    "collapsed": false,
    "ExecuteTime": {
     "end_time": "2023-12-26T09:54:31.046003400Z",
     "start_time": "2023-12-26T09:48:50.108062500Z"
    }
   }
  },
  {
   "cell_type": "code",
   "execution_count": 12,
   "outputs": [],
   "source": [
    "labels = list(train.labels_and_classes.keys())\n",
    "confusion_matrix, precision_and_recall = evaluate_model(model, test_data_loader, labels=labels, device=device)"
   ],
   "metadata": {
    "collapsed": false,
    "ExecuteTime": {
     "end_time": "2023-12-26T10:01:14.514824400Z",
     "start_time": "2023-12-26T10:01:13.328318700Z"
    }
   }
  },
  {
   "cell_type": "code",
   "execution_count": 13,
   "outputs": [
    {
     "name": "stdout",
     "output_type": "stream",
     "text": [
      "Class                    precision                recall                   f1-score                 \n",
      "----------------------------------------------------------------------------------------------------\n",
      "angry                    0.49737670514165794      0.49478079331941544      0.4960753532182104       \n",
      "fearful                  0.43137254901960786      0.12890625               0.19849624060150375      \n",
      "happy                    0.8666666666666667       0.7254791431792559       0.7898128260202516       \n",
      "neutral                  0.4497840172786177       0.67558799675588         0.5400324149108591       \n",
      "sad                      0.4305835010060362       0.5148356054530874       0.46895544192841493      \n",
      "surprised                0.6612244897959184       0.779783393501805        0.7156267255659856       \n"
     ]
    },
    {
     "data": {
      "text/plain": "<Figure size 640x480 with 1 Axes>",
      "image/png": "[encoded data removed]"
     },
     "metadata": {},
     "output_type": "display_data"
    }
   ],
   "source": [
    "plot_confusion_matrix(confusion_matrix.astype(np.int32), classes=test.labels_and_classes)\n",
    "print_precisions_recalls_and_fscores(precision_and_recall, classes=test.labels_and_classes)"
   ],
   "metadata": {
    "collapsed": false,
    "ExecuteTime": {
     "end_time": "2023-12-26T10:01:15.089053Z",
     "start_time": "2023-12-26T10:01:14.947814300Z"
    }
   }
  },
  {
   "cell_type": "markdown",
   "source": [
    "# DRUGI MODEL"
   ],
   "metadata": {
    "collapsed": false
   }
  },
  {
   "cell_type": "code",
   "execution_count": 14,
   "outputs": [],
   "source": [
    "ROOT_PATH = 'dataset'\n",
    "MODEL_SAVE_PATH = './models/model2.pth'\n",
    "config = {'max_epochs': 60, 'batch_size': 64, 'weight_decay': 0.06, 'lr': 0.0001}\n",
    "\n",
    "TRAIN_VAL_SPLIT = 0.8\n",
    "\n",
    "device = torch.device('cuda' if torch.cuda.is_available() else 'cpu')\n",
    "\n",
    "\n",
    "train, test = EmotionDetectionDataset(root=ROOT_PATH, train=True, transform=transform), EmotionDetectionDataset(\n",
    "    root=ROOT_PATH, train=False, transform=transforms.ToTensor())\n",
    "\n",
    "train_data_loader, val_data_loader, test_data_loader = prepare_dataset(train, test, config['batch_size'],\n",
    "                                                                       train_val_split=TRAIN_VAL_SPLIT)\n",
    "\n",
    "model2 = ConvolutionalModel2().to(device)"
   ],
   "metadata": {
    "collapsed": false,
    "ExecuteTime": {
     "end_time": "2023-12-26T10:01:17.706022Z",
     "start_time": "2023-12-26T10:01:17.648596500Z"
    }
   }
  },
  {
   "cell_type": "code",
   "execution_count": 15,
   "outputs": [
    {
     "data": {
      "text/plain": "<All keys matched successfully>"
     },
     "execution_count": 15,
     "metadata": {},
     "output_type": "execute_result"
    }
   ],
   "source": [
    "model2.load_state_dict(torch.load('models/model2.pth'))"
   ],
   "metadata": {
    "collapsed": false,
    "ExecuteTime": {
     "end_time": "2023-12-26T10:01:18.839790500Z",
     "start_time": "2023-12-26T10:01:18.808443Z"
    }
   }
  },
  {
   "cell_type": "code",
   "execution_count": null,
   "outputs": [],
   "source": [
    "history = train_torch_model(model2, train_data_loader, val_data_loader, config, device=device, write_to_tensorboard=True,\n",
    "                            model_save_path=MODEL_SAVE_PATH)"
   ],
   "metadata": {
    "collapsed": false
   }
  },
  {
   "cell_type": "code",
   "execution_count": 16,
   "outputs": [
    {
     "name": "stderr",
     "output_type": "stream",
     "text": [
      "C:\\Users\\gloga\\Lovro\\FER\\Svasta\\neumre_projekt\\torch_train.py:124: RuntimeWarning: invalid value encountered in scalar divide\n",
      "  precision_i = tp_i / (tp_i + fp_i)\n"
     ]
    }
   ],
   "source": [
    "labels = list(train.labels_and_classes.keys())\n",
    "confusion_matrix, precision_and_recall = evaluate_model(model2, test_data_loader, labels=labels, device=device)"
   ],
   "metadata": {
    "collapsed": false,
    "ExecuteTime": {
     "end_time": "2023-12-26T10:01:22.745977900Z",
     "start_time": "2023-12-26T10:01:21.600105Z"
    }
   }
  },
  {
   "cell_type": "code",
   "execution_count": 17,
   "outputs": [
    {
     "name": "stdout",
     "output_type": "stream",
     "text": [
      "Class                    precision                recall                   f1-score                 \n",
      "----------------------------------------------------------------------------------------------------\n",
      "angry                    0.5551801801801802       0.5146137787056367       0.534127843986999        \n",
      "disgusted                0.0                      0.0                      0.0                      \n",
      "fearful                  0.48936170212765956      0.134765625              0.2113323124042879       \n",
      "happy                    0.8740109555690809       0.8094701240135288       0.8405033655253146       \n",
      "neutral                  0.5149481391092129       0.6845093268450932       0.5877437325905293       \n",
      "sad                      0.4156050955414013       0.627906976744186        0.5001596933886937       \n",
      "surprised                0.7304038004750594       0.740072202166065        0.7352062163777644       \n"
     ]
    },
    {
     "data": {
      "text/plain": "<Figure size 640x480 with 1 Axes>",
      "image/png": "[encoded data removed]"
     },
     "metadata": {},
     "output_type": "display_data"
    }
   ],
   "source": [
    "plot_confusion_matrix(confusion_matrix.astype(np.int32), classes=test.labels_and_classes)\n",
    "print_precisions_recalls_and_fscores(precision_and_recall, classes=test.labels_and_classes)"
   ],
   "metadata": {
    "collapsed": false,
    "ExecuteTime": {
     "end_time": "2023-12-26T10:01:39.867221500Z",
     "start_time": "2023-12-26T10:01:39.705695100Z"
    }
   }
  }
 ],
 "metadata": {
  "kernelspec": {
   "display_name": "Python 3",
   "language": "python",
   "name": "python3"
  },
  "language_info": {
   "codemirror_mode": {
    "name": "ipython",
    "version": 2
   },
   "file_extension": ".py",
   "mimetype": "text/x-python",
   "name": "python",
   "nbconvert_exporter": "python",
   "pygments_lexer": "ipython2",
   "version": "2.7.6"
  }
 },
 "nbformat": 4,
 "nbformat_minor": 0
}
