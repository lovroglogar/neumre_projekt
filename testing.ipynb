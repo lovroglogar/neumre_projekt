{
 "cells": [
  {
   "cell_type": "code",
   "execution_count": 2,
   "outputs": [],
   "source": [
    "from torchvision.transforms import ToTensor\n",
    "\n",
    "from convolutional_model import ConvolutionalModel\n",
    "from emotionDetectionDataset import EmotionDetectionDataset\n",
    "from torch_train import *"
   ],
   "metadata": {
    "collapsed": false,
    "ExecuteTime": {
     "start_time": "2023-12-06T14:48:12.350925Z",
     "end_time": "2023-12-06T14:48:12.363398Z"
    }
   }
  },
  {
   "cell_type": "code",
   "execution_count": 3,
   "outputs": [],
   "source": [
    "ROOT_PATH = 'dataset'\n",
    "MODEL_SAVE_PATH = './models/model.pth'\n",
    "config = {'max_epochs': 60, 'batch_size': 64, 'weight_decay': 0.01, 'lr': 0.001}\n",
    "\n",
    "TRAIN_VAL_SPLIT = 0.75\n",
    "\n",
    "device = torch.device('cuda' if torch.cuda.is_available() else 'cpu')"
   ],
   "metadata": {
    "collapsed": false,
    "ExecuteTime": {
     "start_time": "2023-12-06T14:48:13.143368Z",
     "end_time": "2023-12-06T14:48:13.154156Z"
    }
   }
  },
  {
   "cell_type": "code",
   "execution_count": 4,
   "outputs": [],
   "source": [
    "train, test = EmotionDetectionDataset(root=ROOT_PATH, train=True, transform=ToTensor()), EmotionDetectionDataset(\n",
    "    root=ROOT_PATH, train=False, transform=ToTensor())"
   ],
   "metadata": {
    "collapsed": false,
    "ExecuteTime": {
     "start_time": "2023-12-06T14:48:15.028802Z",
     "end_time": "2023-12-06T14:48:15.110004Z"
    }
   }
  },
  {
   "cell_type": "code",
   "execution_count": 5,
   "outputs": [],
   "source": [
    "train_data_loader, val_data_loader, test_data_loader = prepare_dataset(train, test, config['batch_size'],\n",
    "                                                                       train_val_split=TRAIN_VAL_SPLIT)"
   ],
   "metadata": {
    "collapsed": false,
    "ExecuteTime": {
     "start_time": "2023-12-06T14:48:15.674126Z",
     "end_time": "2023-12-06T14:48:15.685594Z"
    }
   }
  },
  {
   "cell_type": "code",
   "execution_count": 6,
   "outputs": [],
   "source": [
    "model = ConvolutionalModel().to(device)"
   ],
   "metadata": {
    "collapsed": false,
    "ExecuteTime": {
     "start_time": "2023-12-06T14:48:16.534070Z",
     "end_time": "2023-12-06T14:48:16.563217Z"
    }
   }
  },
  {
   "cell_type": "code",
   "execution_count": 7,
   "outputs": [
    {
     "data": {
      "text/plain": "<All keys matched successfully>"
     },
     "execution_count": 7,
     "metadata": {},
     "output_type": "execute_result"
    }
   ],
   "source": [
    "# ucitavanje saveanog modela\n",
    "model.load_state_dict(torch.load('./models/model.pth', map_location=device))"
   ],
   "metadata": {
    "collapsed": false,
    "ExecuteTime": {
     "start_time": "2023-12-06T14:48:17.375662Z",
     "end_time": "2023-12-06T14:48:17.427480Z"
    }
   }
  },
  {
   "cell_type": "code",
   "execution_count": 6,
   "outputs": [
    {
     "name": "stdout",
     "output_type": "stream",
     "text": [
      "Epoch 0, train loss=0.029596904292702675, train accuracy=0.24071149916403492\n",
      "Epoch 0, validation loss=0.026153799146413803, validation accuracy=0.3479169569457991\n",
      "Epoch 1, train loss=0.02386166714131832, train accuracy=0.4141278097715029\n",
      "Epoch 1, validation loss=0.021510979160666466, validation accuracy=0.47707955970461197\n",
      "Epoch 2, train loss=0.02122112363576889, train accuracy=0.4852312836708155\n",
      "Epoch 2, validation loss=0.020742930471897125, validation accuracy=0.4878082764386234\n",
      "Epoch 3, train loss=0.020741483196616173, train accuracy=0.4996749024707412\n",
      "Epoch 3, validation loss=0.020966844633221626, validation accuracy=0.49226696391249825\n",
      "Epoch 4, train loss=0.0204464141279459, train accuracy=0.5109604309864388\n",
      "Epoch 4, validation loss=0.020497895777225494, validation accuracy=0.5004876689424551\n",
      "Epoch 5, train loss=0.02032097987830639, train accuracy=0.5104031209362809\n",
      "Epoch 5, validation loss=0.019922522827982903, validation accuracy=0.518183084854396\n",
      "Epoch 6, train loss=0.020158182829618454, train accuracy=0.519134311722088\n",
      "Epoch 6, validation loss=0.01998278498649597, validation accuracy=0.5160930751010171\n",
      "Epoch 7, train loss=0.019907088950276375, train accuracy=0.5261006873490619\n",
      "Epoch 7, validation loss=0.019235406070947647, validation accuracy=0.5346244949143096\n",
      "Epoch 8, train loss=0.019736535847187042, train accuracy=0.5313486903213821\n",
      "Epoch 8, validation loss=0.019047757610678673, validation accuracy=0.5425665319771492\n",
      "Epoch 9, train loss=0.01954003795981407, train accuracy=0.5317666728590006\n",
      "Epoch 9, validation loss=0.018293214961886406, validation accuracy=0.5599832799219729\n",
      "Epoch 10, train loss=0.01939181610941887, train accuracy=0.5390581460152332\n",
      "Epoch 10, validation loss=0.01883411593735218, validation accuracy=0.5442385397798523\n",
      "Epoch 11, train loss=0.01920933462679386, train accuracy=0.548114434330299\n",
      "Epoch 11, validation loss=0.019181253388524055, validation accuracy=0.5438205378291765\n",
      "Epoch 12, train loss=0.019056757912039757, train accuracy=0.5450027865502508\n",
      "Epoch 12, validation loss=0.01804937794804573, validation accuracy=0.5698759927546329\n",
      "Epoch 13, train loss=0.018915768712759018, train accuracy=0.5496934794724132\n",
      "Epoch 13, validation loss=0.018470268696546555, validation accuracy=0.5559425943987739\n",
      "Epoch 14, train loss=0.01888922043144703, train accuracy=0.5498328069849526\n",
      "Epoch 14, validation loss=0.01834193803369999, validation accuracy=0.5601226139055315\n",
      "Epoch 15, train loss=0.0186905600130558, train accuracy=0.5597250603752554\n",
      "Epoch 15, validation loss=0.01925039291381836, validation accuracy=0.5282151316706145\n",
      "Epoch 16, train loss=0.0188513845205307, train accuracy=0.5535017648151588\n",
      "Epoch 16, validation loss=0.01764322817325592, validation accuracy=0.5804653755050857\n",
      "Epoch 17, train loss=0.01860610954463482, train accuracy=0.561443433029909\n",
      "Epoch 17, validation loss=0.019612837582826614, validation accuracy=0.536853838651247\n",
      "Epoch 18, train loss=0.018520070239901543, train accuracy=0.5632082481887424\n",
      "Epoch 18, validation loss=0.018221581354737282, validation accuracy=0.570851330639543\n",
      "Epoch 19, train loss=0.018487637862563133, train accuracy=0.5641835407765187\n",
      "Epoch 19, validation loss=0.018027469515800476, validation accuracy=0.567785983001254\n",
      "Epoch 20, train loss=0.018440918996930122, train accuracy=0.5673880735649266\n",
      "Epoch 20, validation loss=0.01801028661429882, validation accuracy=0.5729413403929219\n",
      "Epoch 21, train loss=0.018403327092528343, train accuracy=0.5674809585732863\n",
      "Epoch 21, validation loss=0.017919128760695457, validation accuracy=0.5760066880312108\n",
      "Epoch 22, train loss=0.018340639770030975, train accuracy=0.5732862715957644\n",
      "Epoch 22, validation loss=0.018066082149744034, validation accuracy=0.5748920161627421\n",
      "Epoch 23, train loss=0.018412603065371513, train accuracy=0.569431543748839\n",
      "Epoch 23, validation loss=0.01796884834766388, validation accuracy=0.5761460220147694\n",
      "Epoch 24, train loss=0.018308842554688454, train accuracy=0.5702675088240758\n",
      "Epoch 24, validation loss=0.017780089750885963, validation accuracy=0.5796293716037342\n",
      "Epoch 25, train loss=0.018152933567762375, train accuracy=0.5768159019134311\n",
      "Epoch 25, validation loss=0.017535820603370667, validation accuracy=0.583391389159816\n",
      "Epoch 26, train loss=0.018132366240024567, train accuracy=0.5764443618799926\n",
      "Epoch 26, validation loss=0.01763692870736122, validation accuracy=0.5835307231433746\n",
      "Epoch 27, train loss=0.018096905201673508, train accuracy=0.5751904142671372\n",
      "Epoch 27, validation loss=0.017818372696638107, validation accuracy=0.5757280200640936\n",
      "Epoch 28, train loss=0.018021460622549057, train accuracy=0.5750975292587777\n",
      "Epoch 28, validation loss=0.017877575010061264, validation accuracy=0.5790720356694998\n",
      "Epoch 29, train loss=0.018118903040885925, train accuracy=0.576862344417611\n",
      "Epoch 29, validation loss=0.01823042705655098, validation accuracy=0.5690399888532813\n",
      "Epoch 30, train loss=0.018020596355199814, train accuracy=0.5788593720973435\n",
      "Epoch 30, validation loss=0.017228784039616585, validation accuracy=0.5970461195485579\n",
      "Epoch 31, train loss=0.017949460074305534, train accuracy=0.5817852498606725\n",
      "Epoch 31, validation loss=0.01761692762374878, validation accuracy=0.5796293716037342\n",
      "Epoch 32, train loss=0.018133118748664856, train accuracy=0.5740293516626417\n",
      "Epoch 32, validation loss=0.01741485297679901, validation accuracy=0.5916120941897729\n",
      "Epoch 33, train loss=0.017961392179131508, train accuracy=0.5779769645179268\n",
      "Epoch 33, validation loss=0.01812645234167576, validation accuracy=0.5631879615438206\n",
      "Epoch 34, train loss=0.017949571833014488, train accuracy=0.5818781348690322\n",
      "Epoch 34, validation loss=0.01759357377886772, validation accuracy=0.5889647485021596\n",
      "Epoch 35, train loss=0.01805645413696766, train accuracy=0.5799275496934795\n",
      "Epoch 35, validation loss=0.01761223003268242, validation accuracy=0.5853420649296364\n",
      "Epoch 36, train loss=0.017927750945091248, train accuracy=0.5802526472227383\n",
      "Epoch 36, validation loss=0.01726122759282589, validation accuracy=0.5917514281733315\n",
      "Epoch 37, train loss=0.017945919185876846, train accuracy=0.5860115177410365\n",
      "Epoch 37, validation loss=0.017527969554066658, validation accuracy=0.5767033579490037\n",
      "Epoch 38, train loss=0.01801854372024536, train accuracy=0.5795560096600408\n",
      "Epoch 38, validation loss=0.017714908346533775, validation accuracy=0.5900794203706284\n",
      "Epoch 39, train loss=0.017845135182142258, train accuracy=0.581924577373212\n",
      "Epoch 39, validation loss=0.017644478008151054, validation accuracy=0.5818587153406716\n",
      "Epoch 40, train loss=0.017849333584308624, train accuracy=0.5853613226825191\n",
      "Epoch 40, validation loss=0.017444314435124397, validation accuracy=0.5868747387487808\n",
      "Epoch 41, train loss=0.01789374090731144, train accuracy=0.5832249674902471\n",
      "Epoch 41, validation loss=0.017507635056972504, validation accuracy=0.5886860805350425\n",
      "Epoch 42, train loss=0.0178355872631073, train accuracy=0.5871261378413524\n",
      "Epoch 42, validation loss=0.017698824405670166, validation accuracy=0.5864567367981051\n",
      "Epoch 43, train loss=0.017864398658275604, train accuracy=0.5841538175738435\n",
      "Epoch 43, validation loss=0.018495434895157814, validation accuracy=0.5606799498397659\n",
      "Epoch 44, train loss=0.017847584560513496, train accuracy=0.5818781348690322\n",
      "Epoch 44, validation loss=0.017397208139300346, validation accuracy=0.5906367563048628\n",
      "Epoch 45, train loss=0.017891352996230125, train accuracy=0.584060932565484\n",
      "Epoch 45, validation loss=0.017955373972654343, validation accuracy=0.5737773442942734\n",
      "Epoch 46, train loss=0.017753830179572105, train accuracy=0.5807635147687163\n",
      "Epoch 46, validation loss=0.01766345649957657, validation accuracy=0.5857600668803121\n",
      "Epoch 47, train loss=0.01780638098716736, train accuracy=0.5859650752368568\n",
      "Epoch 47, validation loss=0.01762991212308407, validation accuracy=0.5840880590776091\n",
      "Epoch 48, train loss=0.01780286617577076, train accuracy=0.5856864202117779\n",
      "Epoch 48, validation loss=0.017277052626013756, validation accuracy=0.5970461195485579\n",
      "Epoch 49, train loss=0.01790616661310196, train accuracy=0.5820174623815716\n",
      "Epoch 49, validation loss=0.018461229279637337, validation accuracy=0.5683433189354884\n",
      "Epoch 50, train loss=0.017816241830587387, train accuracy=0.5843860300947427\n",
      "Epoch 50, validation loss=0.017782175913453102, validation accuracy=0.5800473735544099\n",
      "Epoch 51, train loss=0.01775047555565834, train accuracy=0.5860579602452164\n",
      "Epoch 51, validation loss=0.017632368952035904, validation accuracy=0.58102271143932\n",
      "Epoch 52, train loss=0.01788303814828396, train accuracy=0.5881014304291288\n",
      "Epoch 52, validation loss=0.01803903467953205, validation accuracy=0.5769820259161209\n",
      "Epoch 53, train loss=0.01785752922296524, train accuracy=0.5812743823146944\n",
      "Epoch 53, validation loss=0.018148774281144142, validation accuracy=0.5675073150341369\n",
      "Epoch 54, train loss=0.01786976307630539, train accuracy=0.5815530373397734\n",
      "Epoch 54, validation loss=0.017948225140571594, validation accuracy=0.5741953462449492\n",
      "Epoch 55, train loss=0.017842214554548264, train accuracy=0.586429500278655\n",
      "Epoch 55, validation loss=0.017228443175554276, validation accuracy=0.5921694301240072\n",
      "Epoch 56, train loss=0.01767917163670063, train accuracy=0.5897269180754227\n",
      "Epoch 56, validation loss=0.017940323799848557, validation accuracy=0.5719660025080117\n",
      "Epoch 57, train loss=0.017773393541574478, train accuracy=0.5894947055545235\n",
      "Epoch 57, validation loss=0.017759930342435837, validation accuracy=0.5776786958339138\n",
      "Epoch 58, train loss=0.017746150493621826, train accuracy=0.5892624930336243\n",
      "Epoch 58, validation loss=0.01763400435447693, validation accuracy=0.5832520551762574\n",
      "Epoch 59, train loss=0.01756691001355648, train accuracy=0.5923741408136727\n",
      "Epoch 59, validation loss=0.01714932732284069, validation accuracy=0.5969067855649993\n"
     ]
    }
   ],
   "source": [
    "history = train_torch_model(model, train_data_loader, val_data_loader, config, device=device, write_to_tensorboard=True, model_save_path=MODEL_SAVE_PATH)"
   ],
   "metadata": {
    "collapsed": false,
    "ExecuteTime": {
     "end_time": "2023-12-05T20:46:18.506564500Z",
     "start_time": "2023-12-05T20:33:58.134560300Z"
    }
   }
  },
  {
   "cell_type": "code",
   "execution_count": 8,
   "outputs": [
    {
     "name": "stdout",
     "output_type": "stream",
     "text": [
      "Total loss: 0.01744925230741501. Accuracy: 0.5886040679855112\n",
      "[[ 475.    0.   52.   58.  123.  210.   40.]\n",
      " [  69.    0.    9.    4.    6.   19.    4.]\n",
      " [ 149.    0.  187.   47.  126.  366.  149.]\n",
      " [  35.    0.   33. 1460.   80.   78.   88.]\n",
      " [  80.    0.   34.  110.  703.  283.   23.]\n",
      " [ 119.    0.   60.   75.  218.  745.   30.]\n",
      " [  20.    0.   75.   28.   22.   31.  655.]]\n",
      "Preciznost klase 0: 0.5015839493136219. Odziv klase 0: 0.49582463465553234\n",
      "Preciznost klase 1: nan. Odziv klase 1: 0.0\n",
      "Preciznost klase 2: 0.41555555555555557. Odziv klase 2: 0.1826171875\n",
      "Preciznost klase 3: 0.819304152637486. Odziv klase 3: 0.8229988726042841\n",
      "Preciznost klase 4: 0.5500782472613458. Odziv klase 4: 0.570154095701541\n",
      "Preciznost klase 5: 0.43013856812933027. Odziv klase 5: 0.5974338412189254\n",
      "Preciznost klase 6: 0.6622851365015167. Odziv klase 6: 0.7882069795427196\n"
     ]
    },
    {
     "name": "stderr",
     "output_type": "stream",
     "text": [
      "C:\\Users\\gloga\\FER\\9.semestar\\Neuronske mreže\\neumre_projekt\\torch_train.py:126: RuntimeWarning: invalid value encountered in scalar divide\n",
      "  precision_i = tp_i / (tp_i + fp_i)\n"
     ]
    }
   ],
   "source": [
    "labels = list(train.labels_and_classes.keys())\n",
    "confusion_matrix, precision_and_recall = evaluate_model(model, test_data_loader, labels=labels, device=device)"
   ],
   "metadata": {
    "collapsed": false,
    "ExecuteTime": {
     "start_time": "2023-12-06T14:48:22.248482Z",
     "end_time": "2023-12-06T14:48:33.721933Z"
    }
   }
  },
  {
   "cell_type": "code",
   "execution_count": 9,
   "outputs": [
    {
     "data": {
      "text/plain": "array([[ 475.,   69.,  149.,   35.,   80.,  119.,   20.],\n       [   0.,    0.,    0.,    0.,    0.,    0.,    0.],\n       [  52.,    9.,  187.,   33.,   34.,   60.,   75.],\n       [  58.,    4.,   47., 1460.,  110.,   75.,   28.],\n       [ 123.,    6.,  126.,   80.,  703.,  218.,   22.],\n       [ 210.,   19.,  366.,   78.,  283.,  745.,   31.],\n       [  40.,    4.,  149.,   88.,   23.,   30.,  655.]])"
     },
     "execution_count": 9,
     "metadata": {},
     "output_type": "execute_result"
    }
   ],
   "source": [
    "confusion_matrix"
   ],
   "metadata": {
    "collapsed": false,
    "ExecuteTime": {
     "start_time": "2023-12-06T14:48:33.726163Z",
     "end_time": "2023-12-06T14:48:33.798870Z"
    }
   }
  },
  {
   "cell_type": "code",
   "execution_count": 10,
   "outputs": [
    {
     "data": {
      "text/plain": "array([[0.50158395, 0.49582463],\n       [       nan, 0.        ],\n       [0.41555556, 0.18261719],\n       [0.81930415, 0.82299887],\n       [0.55007825, 0.5701541 ],\n       [0.43013857, 0.59743384],\n       [0.66228514, 0.78820698]])"
     },
     "execution_count": 10,
     "metadata": {},
     "output_type": "execute_result"
    }
   ],
   "source": [
    "precision_and_recall"
   ],
   "metadata": {
    "collapsed": false,
    "ExecuteTime": {
     "start_time": "2023-12-06T14:48:33.737044Z",
     "end_time": "2023-12-06T14:48:33.800472Z"
    }
   }
  },
  {
   "cell_type": "code",
   "execution_count": null,
   "outputs": [],
   "source": [],
   "metadata": {
    "collapsed": false
   }
  }
 ],
 "metadata": {
  "kernelspec": {
   "display_name": "Python 3",
   "language": "python",
   "name": "python3"
  },
  "language_info": {
   "codemirror_mode": {
    "name": "ipython",
    "version": 2
   },
   "file_extension": ".py",
   "mimetype": "text/x-python",
   "name": "python",
   "nbconvert_exporter": "python",
   "pygments_lexer": "ipython2",
   "version": "2.7.6"
  }
 },
 "nbformat": 4,
 "nbformat_minor": 0
}
